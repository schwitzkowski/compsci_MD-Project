{
 "cells": [
  {
   "cell_type": "code",
   "execution_count": null,
   "metadata": {},
   "outputs": [],
   "source": [
    "import numpy as np\n",
    "from numba import jit\n",
    "import timeit\n",
    "from fortwald.dirlatt import dirvec\n",
    "from fortwald.dirfast import dirvec as dirfast"
   ]
  },
  {
   "cell_type": "code",
   "execution_count": null,
   "metadata": {},
   "outputs": [],
   "source": [
    "def nk( maxki ):\n",
    "    \"\"\"Combinatorics, \n",
    "    returns number of combis for lattice vectors in 3D,\n",
    "    (0,0,0), (0,0,1), (0,0,-1), (0,1,0), ..., (0,1,1), (0,1,-1), (0,-1,1), (1,0,1), ..., (1,1,1), ...\n",
    "    \"\"\"\n",
    "    mitnull = 4 * (maxki + 1) ** 3 \n",
    "    korr = 3 + 6 * maxki + 3 * maxki ** 2\n",
    "    return mitnull - korr"
   ]
  },
  {
   "cell_type": "code",
   "execution_count": null,
   "metadata": {},
   "outputs": [],
   "source": [
    "assert [nk(i) for i in range(3)] == [1, 20, 81]"
   ]
  },
  {
   "cell_type": "code",
   "execution_count": null,
   "metadata": {},
   "outputs": [],
   "source": [
    "@jit\n",
    "def nvec_jit( maxki=3 ):#, maxnk=300, maxr=0):\n",
    "    \"\"\"Returns k-vectors for fourier part of ewald \n",
    "    \n",
    "    Arguments:\n",
    "        maxki (int): max value for kx, ky, kz\n",
    "        maxnk (int): max # of k vectors, unrestrict with maxnk=0 \n",
    "        maxr  (int): max length of k, unrestrict with maxr=0\n",
    "    \n",
    "    Output:\n",
    "        k (float): k vectors (dim = 3 x maxnk)\n",
    "    \"\"\"\n",
    "    vec = np.zeros([nk(maxki), 3])\n",
    "    cnt = 0\n",
    "    vec[cnt] = (0,0,0)\n",
    "    cnt += 1\n",
    "    for i in range(1, maxki + 1):\n",
    "        vec[cnt], vec[cnt+1] = [0,0,i], [0,0,-i]\n",
    "        vec[cnt+2], vec[cnt+3] = [0,i,0], [0,-i,0]\n",
    "        vec[cnt+4], vec[cnt+5] = [i,0,0], [-i,0,0]\n",
    "        cnt += 6\n",
    "    for i in range(1, maxki + 1):\n",
    "        for j in range(1, maxki + 1):\n",
    "            vec[cnt], vec[cnt+1], vec[cnt+2] = [0,i,j], [0,-i,j], [0,i,-j]\n",
    "            vec[cnt+3], vec[cnt+4], vec[cnt+5] = [i,0,j], [-i,0,j], [i,0,-j]\n",
    "            vec[cnt+6], vec[cnt+7], vec[cnt+8] = [i,j,0], [-i,j,0], [i,-j,0]\n",
    "            cnt += 9\n",
    "    for i in range(1, maxki + 1):\n",
    "        for j in range(1, maxki + 1):\n",
    "            for k in range(1, maxki + 1):\n",
    "                    vec[cnt] = [i, j, k]\n",
    "                    vec[cnt+1] = [-i,j,k]\n",
    "                    vec[cnt+2] = [i,-j,k]\n",
    "                    vec[cnt+3] = [i,j,-k]\n",
    "                    cnt += 4\n",
    "    return vec"
   ]
  },
  {
   "cell_type": "code",
   "execution_count": null,
   "metadata": {},
   "outputs": [],
   "source": [
    "def nvec( maxki=3 ):\n",
    "    vec = np.zeros([nk(maxki), 3], dtype=np.float32)\n",
    "    cnt = 0\n",
    "    vec[cnt] = (0,0,0)\n",
    "    cnt += 1\n",
    "    for i in range(1, maxki + 1):\n",
    "        vec[cnt], vec[cnt+1] = [0,0,i], [0,0,-i]\n",
    "        vec[cnt+2], vec[cnt+3] = [0,i,0], [0,-i,0]\n",
    "        vec[cnt+4], vec[cnt+5] = [i,0,0], [-i,0,0]\n",
    "        cnt += 6\n",
    "    for i in range(1, maxki + 1):\n",
    "        for j in range(1, maxki + 1):\n",
    "            vec[cnt], vec[cnt+1], vec[cnt+2] = [0,i,j], [0,-i,j], [0,i,-j]\n",
    "            vec[cnt+3], vec[cnt+4], vec[cnt+5] = [i,0,j], [-i,0,j], [i,0,-j]\n",
    "            vec[cnt+6], vec[cnt+7], vec[cnt+8] = [i,j,0], [-i,j,0], [i,-j,0]\n",
    "            cnt += 9\n",
    "    for i in range(1, maxki + 1):\n",
    "        for j in range(1, maxki + 1):\n",
    "            for k in range(1, maxki + 1):\n",
    "                    vec[cnt] = [i, j, k]\n",
    "                    vec[cnt+1] = [-i,j,k]\n",
    "                    vec[cnt+2] = [i,-j,k]\n",
    "                    vec[cnt+3] = [i,j,-k]\n",
    "                    cnt += 4\n",
    "    return vec"
   ]
  },
  {
   "cell_type": "code",
   "execution_count": null,
   "metadata": {},
   "outputs": [],
   "source": [
    "def nvec_if( maxki=3 ):\n",
    "    \n",
    "    vec = np.zeros([nk(maxki), 3], dtype=np.float32)\n",
    "    cnt = 0\n",
    "    \n",
    "    for i in range(maxki + 1):\n",
    "        for j in range(maxki + 1):\n",
    "            for k in range(maxki + 1):\n",
    "                    vec[cnt] = [i, j, k]\n",
    "                    temp = 0\n",
    "                    for l in range(3):\n",
    "                        if vec[cnt][l] > 0:\n",
    "                            vec[cnt+1+temp] = vec[cnt]\n",
    "                            vec[cnt+1+temp][l] = -vec[cnt][l] \n",
    "                            temp += 1\n",
    "                    cnt += 1 + temp\n",
    "    return vec"
   ]
  },
  {
   "cell_type": "code",
   "execution_count": null,
   "metadata": {},
   "outputs": [],
   "source": [
    "print(nvec_jit(0) == nvec(0))\n",
    "print(nvec_if(0) == dirvec(0))\n",
    "print(nvec_if(0) == dirfast(0))"
   ]
  },
  {
   "cell_type": "code",
   "execution_count": null,
   "metadata": {},
   "outputs": [],
   "source": [
    "maxki = 15\n",
    "\n",
    "%timeit nvec_jit(maxki)\n",
    "%timeit nvec(maxki)\n",
    "%timeit nvec_if(maxki)\n",
    "%timeit dirvec(maxki)\n",
    "%timeit dirfast(maxki)"
   ]
  },
  {
   "cell_type": "markdown",
   "metadata": {},
   "source": [
    "maxki = 15\n",
    "\n",
    "| method  | mean/loop | std. dev. |\n",
    "|---------|-----------|-----------|\n",
    "| jit     | 1.51 ms   | ±7.96 µs  |\n",
    "| python  | 13.6 ms   | ±57.9 µs  |\n",
    "| if      | 39.8 ms   | ±430 µs   |\n",
    "| fortran | 542 µs    | ±3.26 µs  |\n",
    "| f. fast | 17.4 µs   | ±158 ns   |"
   ]
  },
  {
   "cell_type": "code",
   "execution_count": null,
   "metadata": {},
   "outputs": [],
   "source": [
    "#import itertools as it\n",
    "#comb = list(it.product(range(1,3), repeat=3))\n",
    "#print(comb)"
   ]
  },
  {
   "cell_type": "code",
   "execution_count": null,
   "metadata": {},
   "outputs": [],
   "source": [
    "from numba import njit\n",
    "\n",
    "@njit\n",
    "def gausssum_njit( n ):\n",
    "    res = 0\n",
    "    for i in range(n):\n",
    "        res += i + 1\n",
    "    return res\n",
    "\n",
    "\n",
    "print(gausssum_njit(1e9))\n",
    "%timeit gausssum_njit(1e9)"
   ]
  },
  {
   "cell_type": "code",
   "execution_count": null,
   "metadata": {},
   "outputs": [],
   "source": []
  }
 ],
 "metadata": {
  "kernelspec": {
   "display_name": "Python 3",
   "language": "python",
   "name": "python3"
  },
  "language_info": {
   "codemirror_mode": {
    "name": "ipython",
    "version": 3
   },
   "file_extension": ".py",
   "mimetype": "text/x-python",
   "name": "python",
   "nbconvert_exporter": "python",
   "pygments_lexer": "ipython3",
   "version": "3.7.2"
  }
 },
 "nbformat": 4,
 "nbformat_minor": 2
}
