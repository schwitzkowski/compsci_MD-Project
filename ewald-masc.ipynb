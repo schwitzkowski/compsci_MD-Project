{
 "cells": [
  {
   "cell_type": "markdown",
   "metadata": {},
   "source": [
    "# Ewald sum\n",
    "\n",
    "References:\n",
    "- \"Computer Simulation of Liquids\" by Michael P. Allen and Dominic J. Tildesley (2nd edition, Oxford University Press, 2017)\n",
    "- https://github.com/Allen-Tildesley"
   ]
  },
  {
   "cell_type": "code",
   "execution_count": 1,
   "metadata": {},
   "outputs": [],
   "source": [
    "import numpy as np\n",
    "import torch\n",
    "from scipy.special import erfc\n",
    "\n",
    "def distance( x ):\n",
    "    return torch.norm(x[None, :, :] - x[:, None, :], dim=-1)\n",
    "\n",
    "def qpairs( q ):\n",
    "    return q[None, :]*q[:, None]"
   ]
  },
  {
   "cell_type": "markdown",
   "metadata": {},
   "source": [
    "# Real Space"
   ]
  },
  {
   "cell_type": "code",
   "execution_count": 2,
   "metadata": {},
   "outputs": [],
   "source": [
    "def rwald( x, q, sigma=0.1178511 ):\n",
    "    \"\"\"Returns the r-space part of energy of ewald summation\n",
    "    \n",
    "    Arguments:\n",
    "        x (float): position vectors (dim = n x 3)\n",
    "        q (int): charges (dim = n)\n",
    "        sigma (float): sqrt(variance), width of gaussian\n",
    "    \n",
    "        n (int): number of particles\n",
    "    \n",
    "    Output:\n",
    "        e_short (float): short range part of ewald potential\n",
    "    \"\"\"\n",
    "    epsilon = 8.854187817e-12\n",
    "    #x = torch.tensor(x, dtype=np.float32)\n",
    "    #q = torch.tensor(q, dtype=np.float32)\n",
    "    n, d = list(x.size())\n",
    "    assert n == q.shape[0], 'dimension error: q needs n entries'\n",
    "    \n",
    "    e_short = 0.\n",
    "    \n",
    "    r = distance(torch.Tensor(x))\n",
    "    qiqj = qpairs(torch.Tensor(q))\n",
    "    r_invers = r.clone()\n",
    "    r_invers[r_invers!=0] = 1/r_invers[r_invers!=0]\n",
    "    return torch.sum(\n",
    "        qiqj * r_invers * erfc( r / (np.sqrt(2) * sigma) )\n",
    "        ) / (2 * np.pi * epsilon)"
   ]
  },
  {
   "cell_type": "code",
   "execution_count": 45,
   "metadata": {
    "scrolled": true
   },
   "outputs": [],
   "source": [
    "charge = torch.tensor([-1., 2, -1, 3])\n",
    "position = torch.tensor([[0., 0.], [0., 1.], [1., 1.], [1., 0.]])\n",
    "#qiqj = qpairs(charge)\n",
    "#print(qiqj)\n",
    "#dist = distance(position)\n",
    "#print(dist)\n",
    "#dist[dist!=0] = 1/dist[dist!=0]\n",
    "#print(qiqj*dist)\n",
    "#print(torch.sum(qiqj))\n",
    "k = torch.tensor([[2., 3], [-1., -3]])\n",
    "r_ab = position[None, :, :] - position[:, None, :]\n",
    "#print(k)\n",
    "#print(r_ab)\n",
    "#print(k[:, None, None]*r_ab)\n",
    "#print(torch.sum(k[:, None, None]*r_ab, dim=-1)) "
   ]
  },
  {
   "cell_type": "code",
   "execution_count": 4,
   "metadata": {},
   "outputs": [
    {
     "name": "stdout",
     "output_type": "stream",
     "text": [
      "tensor(-7.7363e-06)\n"
     ]
    }
   ],
   "source": [
    "print(rwald(position, charge))\n",
    "#a = np.array([[.1, .2, .4], [.8, 1.6, 3.2]])\n",
    "#print(a)\n",
    "#print(erfc(a*6))"
   ]
  },
  {
   "cell_type": "markdown",
   "metadata": {},
   "source": [
    "# Fourier space"
   ]
  },
  {
   "cell_type": "code",
   "execution_count": 334,
   "metadata": {},
   "outputs": [],
   "source": [
    "def nkmax( nmax ):\n",
    "    mitnull = (nmax + 1) ** 3 * 2 ** 3\n",
    "    korr = 7 + sum([30 + i * 24 for i in range(nmax)])\n",
    "    return mitnull - korr\n",
    "\n",
    "def kvec( maxval=3, ksq=15 ):\n",
    "    preallo = np.zeros([nkmax(maxval), 3], dtype=np.float32)\n",
    "    cnt = 0\n",
    "    for i in range(maxval + 1):\n",
    "        for j in range(maxval + 1):\n",
    "            for k in range(maxval + 1):\n",
    "                if (i**2+j**2+k**2 <= ksq):\n",
    "                    preallo[cnt] = [i, j, k]\n",
    "                    cnt += 1\n",
    "                    if (i > 0):\n",
    "                        preallo[cnt] = [-i, j, k]\n",
    "                        cnt += 1\n",
    "                    if (j > 0):\n",
    "                        preallo[cnt] = [i, -j, k]\n",
    "                        cnt += 1\n",
    "                    if (k > 0):\n",
    "                        preallo[cnt] = [i, j, -k]\n",
    "                        cnt += 1\n",
    "                    if (i > 0 and j > 0):\n",
    "                        preallo[cnt] = [-i, -j, k]\n",
    "                        cnt += 1\n",
    "                    if (i > 0 and k > 0):\n",
    "                        preallo[cnt] = [-i, j, -k]\n",
    "                        cnt += 1\n",
    "                    if (j > 0 and k > 0):\n",
    "                        preallo[cnt] = [i, -j ,-k]\n",
    "                        cnt += 1\n",
    "                    if (i > 0 and j > 0 and k > 0):\n",
    "                        preallo[cnt] = [-i, -j, -k]\n",
    "                        cnt += 1\n",
    "    return torch.from_numpy(preallo[0:cnt])\n",
    "\n",
    "def dx( x ):\n",
    "    return x[None, :, :] - x[:, None, :]\n",
    "\n",
    "def sfactor( x, q, kmax ):\n",
    "    # check torch.tensor\n",
    "    # check dimensions: q, k, x\n",
    "    return torch.sum(\n",
    "        torch.sum( qpairs( q ) * np.cos( \n",
    "        torch.sum( k[:, None, None] * dx( x ), \n",
    "                  dim=-1 )), dim=-1), dim=-1)\n",
    "    \n",
    "\n",
    "def kwald( x, q, kmax=3, lbox=1 ):\n",
    "    \"\"\"Returns the fourier space part of energy of ewald summation\n",
    "    \n",
    "    Arguments:\n",
    "        x (float): position vectors (dim = n x 3)\n",
    "        q (int): charges (dim = n)\n",
    "        sigma (float): sqrt(variance), width of gaussian\n",
    "    \n",
    "        n (int): number of particles\n",
    "    \n",
    "    Output:\n",
    "        e_l (float): long range part of ewald potential\n",
    "    \"\"\"\n",
    "    sigma = lbox/10.\n",
    "    epsilon = 8.854187817e-12\n",
    "    q = charge   \n",
    "    # x = torch.tensor([[x1, y1, z1], [...], ...])\n",
    "    # q = torch.tensor([q1, q2, ...])\n",
    "    k = kvec(kmax,3*kmax**2)*2*np.pi/lbox\n",
    "    s_sq = sfactor(x, q, k)\n",
    "    klen = torch.sum(k**2, dim=-1)\n",
    "    kleninv = klen.clone()\n",
    "    kleninv[kleninv!=0] = 1/kleninv[kleninv!=0]\n",
    "    factor = np.exp(-1/2*sigma**2*klen)*kleninv\n",
    "    return 1/(2*lbox**3*1)*torch.sum(s_sq*factor)\n",
    "    #return 1/(2 * lbox^3 * epsilon)"
   ]
  },
  {
   "cell_type": "code",
   "execution_count": 331,
   "metadata": {},
   "outputs": [
    {
     "ename": "RuntimeError",
     "evalue": "The size of tensor a (1331) must match the size of tensor b (729) at non-singleton dimension 0",
     "output_type": "error",
     "traceback": [
      "\u001b[0;31m---------------------------------------------------------------------------\u001b[0m",
      "\u001b[0;31mRuntimeError\u001b[0m                              Traceback (most recent call last)",
      "\u001b[0;32m<ipython-input-331-bb1d92c5d7e7>\u001b[0m in \u001b[0;36m<module>\u001b[0;34m\u001b[0m\n\u001b[1;32m      1\u001b[0m \u001b[0;31m#print(kvec(4,3*4**2))\u001b[0m\u001b[0;34m\u001b[0m\u001b[0;34m\u001b[0m\u001b[0;34m\u001b[0m\u001b[0m\n\u001b[1;32m      2\u001b[0m \u001b[0;31m#print(kvec(5,3*5**2))\u001b[0m\u001b[0;34m\u001b[0m\u001b[0;34m\u001b[0m\u001b[0;34m\u001b[0m\u001b[0m\n\u001b[0;32m----> 3\u001b[0;31m \u001b[0mprint\u001b[0m\u001b[0;34m(\u001b[0m\u001b[0mkwald\u001b[0m\u001b[0;34m(\u001b[0m\u001b[0mx\u001b[0m\u001b[0;34m,\u001b[0m \u001b[0mq\u001b[0m\u001b[0;34m,\u001b[0m \u001b[0;36m4\u001b[0m\u001b[0;34m,\u001b[0m \u001b[0;36m1\u001b[0m\u001b[0;34m)\u001b[0m\u001b[0;34m)\u001b[0m \u001b[0;31m#for i in range(5)])\u001b[0m\u001b[0;34m\u001b[0m\u001b[0;34m\u001b[0m\u001b[0m\n\u001b[0m",
      "\u001b[0;32m<ipython-input-329-111354691cd9>\u001b[0m in \u001b[0;36mkwald\u001b[0;34m(x, q, kmax, lbox)\u001b[0m\n\u001b[1;32m     72\u001b[0m     \u001b[0mkleninv\u001b[0m\u001b[0;34m[\u001b[0m\u001b[0mkleninv\u001b[0m\u001b[0;34m!=\u001b[0m\u001b[0;36m0\u001b[0m\u001b[0;34m]\u001b[0m \u001b[0;34m=\u001b[0m \u001b[0;36m1\u001b[0m\u001b[0;34m/\u001b[0m\u001b[0mkleninv\u001b[0m\u001b[0;34m[\u001b[0m\u001b[0mkleninv\u001b[0m\u001b[0;34m!=\u001b[0m\u001b[0;36m0\u001b[0m\u001b[0;34m]\u001b[0m\u001b[0;34m\u001b[0m\u001b[0;34m\u001b[0m\u001b[0m\n\u001b[1;32m     73\u001b[0m     \u001b[0mfactor\u001b[0m \u001b[0;34m=\u001b[0m \u001b[0mnp\u001b[0m\u001b[0;34m.\u001b[0m\u001b[0mexp\u001b[0m\u001b[0;34m(\u001b[0m\u001b[0;34m-\u001b[0m\u001b[0;36m1\u001b[0m\u001b[0;34m/\u001b[0m\u001b[0;36m2\u001b[0m\u001b[0;34m*\u001b[0m\u001b[0msigma\u001b[0m\u001b[0;34m**\u001b[0m\u001b[0;36m2\u001b[0m\u001b[0;34m*\u001b[0m\u001b[0mklen\u001b[0m\u001b[0;34m)\u001b[0m\u001b[0;34m*\u001b[0m\u001b[0mkleninv\u001b[0m\u001b[0;34m\u001b[0m\u001b[0;34m\u001b[0m\u001b[0m\n\u001b[0;32m---> 74\u001b[0;31m     \u001b[0;32mreturn\u001b[0m \u001b[0;36m1\u001b[0m\u001b[0;34m/\u001b[0m\u001b[0;34m(\u001b[0m\u001b[0;36m2\u001b[0m\u001b[0;34m*\u001b[0m\u001b[0mlbox\u001b[0m\u001b[0;34m**\u001b[0m\u001b[0;36m3\u001b[0m\u001b[0;34m*\u001b[0m\u001b[0;36m1\u001b[0m\u001b[0;34m)\u001b[0m\u001b[0;34m*\u001b[0m\u001b[0mtorch\u001b[0m\u001b[0;34m.\u001b[0m\u001b[0msum\u001b[0m\u001b[0;34m(\u001b[0m\u001b[0ms_sq\u001b[0m\u001b[0;34m*\u001b[0m\u001b[0mfactor\u001b[0m\u001b[0;34m)\u001b[0m\u001b[0;34m\u001b[0m\u001b[0;34m\u001b[0m\u001b[0m\n\u001b[0m\u001b[1;32m     75\u001b[0m     \u001b[0;31m#return 1/(2 * lbox^3 * epsilon)\u001b[0m\u001b[0;34m\u001b[0m\u001b[0;34m\u001b[0m\u001b[0;34m\u001b[0m\u001b[0m\n",
      "\u001b[0;31mRuntimeError\u001b[0m: The size of tensor a (1331) must match the size of tensor b (729) at non-singleton dimension 0"
     ]
    }
   ],
   "source": [
    "#print(kvec(4,3*4**2))\n",
    "#print(kvec(5,3*5**2))\n",
    "print(kwald(x, q, 4, 1)) #for i in range(5)])"
   ]
  },
  {
   "cell_type": "code",
   "execution_count": 311,
   "metadata": {
    "scrolled": true
   },
   "outputs": [
    {
     "name": "stdout",
     "output_type": "stream",
     "text": [
      "251\n",
      "tensor([[0., 0., 0.],\n",
      "        [0., 0., 1.]])\n"
     ]
    }
   ],
   "source": [
    "#print([nkmax(i + 1) for i in range(3)])\n",
    "k = kvec()\n",
    "print(len(k))\n",
    "print(k[0:2])\n",
    "#indexlist = np.argsort(np.linalg.norm(k,axis=-1))\n",
    "#print(indexlist)\n",
    "#print(k[indexlist])"
   ]
  },
  {
   "cell_type": "code",
   "execution_count": 333,
   "metadata": {},
   "outputs": [
    {
     "name": "stdout",
     "output_type": "stream",
     "text": [
      "251\n",
      "tensor(1.8253)\n"
     ]
    }
   ],
   "source": [
    "q = charge\n",
    "x = torch.tensor([[0., 0, 3],\n",
    "        [0, 1, 3],\n",
    "        [1, 1, -3],\n",
    "        [1, 0, -3]])\n",
    "#print(q)\n",
    "#print(dx(x))\n",
    "k = kvec(5)*2*np.pi/1\n",
    "print(len(k))\n",
    "#print(k[-3:-1])\n",
    "#print(sfactor(x, q, k))\n",
    "inner =  k[:, None, None] * dx( x )\n",
    "#print(inner)\n",
    "inner = torch.sum(inner, dim=-1)\n",
    "#print(inner)\n",
    "outer = torch.sum( qpairs( q ) * np.cos(inner), dim=-1)\n",
    "outer = torch.sum(outer, dim=-1)\n",
    "#print(outer)\n",
    "klen = torch.sum(k**2, dim=-1)\n",
    "kleninv = klen.clone()\n",
    "kleninv[kleninv!=0] = 1/kleninv[kleninv!=0]\n",
    "factor = np.exp(-1/2*0.1**2*klen)*kleninv\n",
    "print(1/(2*1**3*1)*torch.sum(outer*factor))"
   ]
  },
  {
   "cell_type": "code",
   "execution_count": null,
   "metadata": {},
   "outputs": [],
   "source": []
  }
 ],
 "metadata": {
  "kernelspec": {
   "display_name": "Python 3",
   "language": "python",
   "name": "python3"
  },
  "language_info": {
   "codemirror_mode": {
    "name": "ipython",
    "version": 3
   },
   "file_extension": ".py",
   "mimetype": "text/x-python",
   "name": "python",
   "nbconvert_exporter": "python",
   "pygments_lexer": "ipython3",
   "version": "3.7.2"
  }
 },
 "nbformat": 4,
 "nbformat_minor": 2
}
