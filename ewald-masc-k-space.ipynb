{
 "cells": [
  {
   "cell_type": "markdown",
   "metadata": {},
   "source": [
    "# Fourier space"
   ]
  },
  {
   "cell_type": "code",
   "execution_count": 1,
   "metadata": {},
   "outputs": [],
   "source": [
    "import numpy as np\n",
    "import torch\n",
    "from scipy.special import erfc\n",
    "\n",
    "def dx( x ):\n",
    "    return x[None, :, :] - x[:, None, :]\n",
    "\n",
    "def distance( x ):\n",
    "    return torch.norm(x[None, :, :] - x[:, None, :], dim=-1)\n",
    "\n",
    "def qpairs( q ):\n",
    "    return q[None, :]*q[:, None]"
   ]
  },
  {
   "cell_type": "code",
   "execution_count": 2,
   "metadata": {},
   "outputs": [],
   "source": [
    "def nk( maxki ):\n",
    "    \"\"\"Combinatorics, \n",
    "    returns number of combis for lattice vectors in 3D\n",
    "    \"\"\"\n",
    "    mitnull = (maxki + 1) ** 3 * 2 ** 3\n",
    "    korr = 7 + sum([30 + i * 24 for i in range(maxki)])\n",
    "    \n",
    "    return mitnull - korr\n",
    "\n",
    "def kvec( maxki=3, maxnk=300, maxr=0):\n",
    "    \"\"\"Returns k-vectors for k-part of ewald\n",
    "    \n",
    "    Arguments:\n",
    "        maxki (int): max value for kx, ky, kz\n",
    "        maxnk (int): max # of k vectors, unrestrict with maxnk=0 \n",
    "        maxr  (int): max length of k, unrestrict with maxr=0\n",
    "    \n",
    "    Output:\n",
    "        k (float): k vectors (dim = 3 x maxnk)\n",
    "    \"\"\"\n",
    "    vector = np.zeros([nk(maxki), 3], dtype=np.float32)\n",
    "    cnt = 0\n",
    "    for i in range(maxki + 1):\n",
    "        for j in range(maxki + 1):\n",
    "            for k in range(maxki + 1):\n",
    "                if (maxr == 0 or maxr >= i**2+j**2+k**2):\n",
    "                    vector[cnt] = [i, j, k]\n",
    "                    cnt += 1\n",
    "                    if (i > 0):\n",
    "                        vector[cnt] = [-i, j, k]\n",
    "                        cnt += 1\n",
    "                    if (j > 0):\n",
    "                        vector[cnt] = [i, -j, k]\n",
    "                        cnt += 1\n",
    "                    if (k > 0):\n",
    "                        vector[cnt] = [i, j, -k]\n",
    "                        cnt += 1\n",
    "                    if (i > 0 and j > 0):\n",
    "                        vector[cnt] = [-i, -j, k]\n",
    "                        cnt += 1\n",
    "                    if (i > 0 and k > 0):\n",
    "                        vector[cnt] = [-i, j, -k]\n",
    "                        cnt += 1\n",
    "                    if (j > 0 and k > 0):\n",
    "                        vector[cnt] = [i, -j ,-k]\n",
    "                        cnt += 1\n",
    "                    if (i > 0 and j > 0 and k > 0):\n",
    "                        vector[cnt] = [-i, -j, -k]\n",
    "                        cnt += 1\n",
    "    if (maxnk > 0 ):   \n",
    "        indexlist = np.argsort(np.linalg.norm(vector,axis=-1))\n",
    "        vector = torch.from_numpy(vector[indexlist])\n",
    "        vector = vector[0:maxnk]\n",
    "    else:\n",
    "        vector = torch.from_numpy(vector[0:cnt])\n",
    "    return vector"
   ]
  },
  {
   "cell_type": "code",
   "execution_count": 3,
   "metadata": {},
   "outputs": [
    {
     "name": "stdout",
     "output_type": "stream",
     "text": [
      "300 tensor([-1.,  3., -3.])\n",
      "9261 tensor([-10., -10., -10.])\n",
      "1 tensor([0., 0., 0.])\n",
      "251 tensor([-3., -2., -1.])\n"
     ]
    }
   ],
   "source": [
    "k = kvec() # default k: 300 vectors\n",
    "print(len(k), k[-1])\n",
    "k = kvec(10, 0) # unlimited number of k vectors\n",
    "print(len(k), k[-1])\n",
    "k = kvec(5, 1) # specific number of k vectors\n",
    "print(len(k), k[-1])\n",
    "k = kvec(5, 0, 15) # max len(k)\n",
    "print(len(k), k[-1])"
   ]
  },
  {
   "cell_type": "code",
   "execution_count": 4,
   "metadata": {},
   "outputs": [
    {
     "name": "stdout",
     "output_type": "stream",
     "text": [
      "(0, 1, 0.0, 4.513999738264829e-05)\n",
      "(1, 27, 1.7320507764816284, 0.00011525800073286518)\n",
      "(4, 729, 6.928203105926514, 0.0012855839959229343)\n",
      "(9, 6859, 15.588457107543945, 0.007277222000993788)\n",
      "(16, 35937, 27.712812423706055, 0.045372453998425044)\n",
      "(25, 132651, 43.30126953125, 0.13022325999918394)\n",
      "(36, 389017, 62.35382843017578, 0.38159373399685137)\n",
      "(49, 970299, 84.87049102783203, 0.9323252000031061)\n",
      "(64, 2146689, 110.85124969482422, 2.161930767004378)\n",
      "(81, 4330747, 140.29611206054688, 4.779811213003995)\n"
     ]
    }
   ],
   "source": [
    "def kvec_time(ki):\n",
    "    import time\n",
    "    t1 = time.perf_counter()\n",
    "    k = kvec(ki, 0)\n",
    "    t2 = time.perf_counter()\n",
    "    return ki, len(k), float(torch.norm(k[-1])), t2-t1\n",
    "\n",
    "for i in range(9):\n",
    "    print(kvec_time(i**2))"
   ]
  },
  {
   "cell_type": "markdown",
   "metadata": {},
   "source": [
    "# Structure Factor squared\n",
    "\n",
    "$$\\mathrm{sfac} = |S(\\textbf{k})|^2 = \n",
    "\\sum_{a,b}^N q_a q_b \\cos(<\\textbf{k}, r_{ab}>)$$\n",
    "\n",
    "- saved as vector ( dim(sfactor) = dim(k) )"
   ]
  },
  {
   "cell_type": "code",
   "execution_count": 5,
   "metadata": {},
   "outputs": [],
   "source": [
    "def sfac( x, q, k ):\n",
    "    \"\"\"Structure factor squared\n",
    "    \"\"\"\n",
    "    return torch.sum(\n",
    "        torch.sum( qpairs( q ) * np.cos( \n",
    "        torch.sum( k[:, None, None] * dx( x ), \n",
    "                  dim=-1 )), dim=-1), dim=-1)"
   ]
  },
  {
   "cell_type": "markdown",
   "metadata": {},
   "source": [
    "# K-space\n",
    "$$ E_L = \\frac{1}{2V\\varepsilon_0} \n",
    "    \\sum_\\textbf{k} |S(\\textbf{k})|^2 \\frac{\\exp\n",
    "    \\left(-\\sigma^2 k^2\\right)}{k^2}$$\n",
    "    \n",
    "$$ \\mathrm{with} \\quad |\\textbf{k}| = k $$"
   ]
  },
  {
   "cell_type": "code",
   "execution_count": 6,
   "metadata": {},
   "outputs": [],
   "source": [
    "def kwald( x, q, lbox=1, kmax=3 ):\n",
    "    \"\"\"Returns the fourier space part of energy of ewald summation\n",
    "    \n",
    "    Arguments:\n",
    "        x    (float): position vectors (dim = n x 3)\n",
    "        q      (int): charges (dim = n)\n",
    "        lbox (float): box length\n",
    "        kmax   (int): max value for k_i \\in {k_x, k_y, k_z}\n",
    "        \n",
    "        n := # of particles\n",
    "        sigma (float): sqrt(variance), width of gaussian\n",
    "    \n",
    "    Output:\n",
    "        e_l   (float): long range part of ewald potential\n",
    "    \"\"\"\n",
    "    sigma = lbox/10.\n",
    "    eps = 1 # 8.854187817e-12\n",
    "    \n",
    "    k = kvec(kmax, 0)*(2*np.pi/lbox)\n",
    "    s = sfac(x, q, k)\n",
    "    \n",
    "    ksq = torch.sum(k**2, dim=-1)\n",
    "    kinv = ksq.clone()\n",
    "    kinv[kinv != 0] = 1 / kinv[kinv != 0]\n",
    "    frac = np.exp(-sigma ** 2 * ksq / 2) * kinv\n",
    "    \n",
    "    return torch.sum(s * frac) / (2 * lbox ** 3 * eps)"
   ]
  },
  {
   "cell_type": "code",
   "execution_count": 7,
   "metadata": {},
   "outputs": [],
   "source": [
    "pos = torch.tensor([[0., 0, 3],\n",
    "        [0, 1, 3],\n",
    "        [1, 1, -3],\n",
    "        [1, 0, -3]])\n",
    "cha = torch.tensor([-1., 2, -1, 3])"
   ]
  },
  {
   "cell_type": "code",
   "execution_count": 8,
   "metadata": {},
   "outputs": [
    {
     "name": "stdout",
     "output_type": "stream",
     "text": [
      "1 7.805880546569824 0.03231446800054982\n",
      "4 11.193275451660156 0.04279659200255992\n",
      "9 11.209467887878418 0.492462517999229\n",
      "16 11.209465980529785 2.4706974270011415\n",
      "25 11.209467887878418 8.213287564998609\n"
     ]
    }
   ],
   "source": [
    "import time\n",
    "\n",
    "n = 50 # number of particles\n",
    "position = torch.from_numpy(\n",
    "    np.random.rand(n, 3).astype(dtype=np.float32))\n",
    "charge = torch.from_numpy(\n",
    "    np.random.choice([-1.,1], n).astype(dtype=np.float32))\n",
    "\n",
    "for i in range(1, 6):\n",
    "    t1 = time.perf_counter()\n",
    "    e_l = float(kwald(position, charge, 1, i**2))\n",
    "    t2 = time.perf_counter()\n",
    "    print(i**2, e_l, t2-t1)"
   ]
  },
  {
   "cell_type": "code",
   "execution_count": null,
   "metadata": {},
   "outputs": [],
   "source": []
  }
 ],
 "metadata": {
  "kernelspec": {
   "display_name": "Python 3",
   "language": "python",
   "name": "python3"
  },
  "language_info": {
   "codemirror_mode": {
    "name": "ipython",
    "version": 3
   },
   "file_extension": ".py",
   "mimetype": "text/x-python",
   "name": "python",
   "nbconvert_exporter": "python",
   "pygments_lexer": "ipython3",
   "version": "3.7.2"
  }
 },
 "nbformat": 4,
 "nbformat_minor": 2
}
