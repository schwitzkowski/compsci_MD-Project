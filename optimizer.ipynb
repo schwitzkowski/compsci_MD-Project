{
 "cells": [
  {
   "cell_type": "markdown",
   "metadata": {},
   "source": [
    "# Structure Optimization"
   ]
  },
  {
   "cell_type": "code",
   "execution_count": null,
   "metadata": {},
   "outputs": [],
   "source": [
    "%matplotlib notebook\n",
    "import numpy as np\n",
    "import torch\n",
    "import matplotlib.pyplot as plt"
   ]
  },
  {
   "cell_type": "code",
   "execution_count": null,
   "metadata": {},
   "outputs": [],
   "source": [
    "from potentials import *\n",
    "from distances import *\n",
    "from sampling import *"
   ]
  },
  {
   "cell_type": "code",
   "execution_count": null,
   "metadata": {},
   "outputs": [],
   "source": [
    "import matplotlib\n",
    "import matplotlib.cm as cm\n",
    "\n",
    "delta = 0.025\n",
    "x = np.arange(-1.0, 1.0, delta)\n",
    "y = np.arange(-1.0, 1.0, delta)\n",
    "X, Y = np.meshgrid(x, y)\n",
    "XY = np.append(X[:, :, None], Y[:, :, None], axis=-1)\n",
    "Z = potentials.harmonic(XY)\n",
    "\n",
    "fig, ax = plt.subplots()\n",
    "ax.contour(X, Y, Z)\n",
    "#ax.clabel(CS, inline=1, fontsize=10)\n",
    "#ax.set_title('Simplest default with labels')"
   ]
  },
  {
   "cell_type": "code",
   "execution_count": null,
   "metadata": {},
   "outputs": [],
   "source": [
    "#xinit = np.array([[1., 1], [-1, 2]])\n",
    "#x = xinit\n",
    "#x1 = x * 0.5\n",
    "#print(x1)\n",
    "#x = np.append(x[None, :, :], x1[None, :, :], axis=0)\n",
    "#print(x)\n",
    "#print(x[-1])\n",
    "#x1 = x[-1] * 0.5\n",
    "#print(x1)\n",
    "#x = np.append(x,  x1[None, :, :], axis=0)\n",
    "#print(x)"
   ]
  },
  {
   "cell_type": "code",
   "execution_count": null,
   "metadata": {},
   "outputs": [],
   "source": [
    "def descent( x, a=1e-4, prec=1e-10, maxst=1e6 ):\n",
    "    \"\"\"Gradient Descent\n",
    "    \n",
    "    Arguments:\n",
    "        x    (float): position vectors (dim = n x 3)\n",
    "        a    (float): 'learning rate' alpha = 1e-4\n",
    "        prec (float): difference between steps, precision = 1e-10\n",
    "        maxst  (int): max # of steps, maxst = 1e6\n",
    "    \n",
    "    Output:\n",
    "        x: position array,\n",
    "        step: # of steps needed to converge\"\"\"\n",
    "    \n",
    "    x = x[None, :, :]\n",
    "    step = 0\n",
    "    f = gradients.harmonic( x[-1] )\n",
    "    x1 = x[-1] - a * f\n",
    "    \n",
    "    while(step < maxst and (abs(x[-1] - x1) > prec).all()):\n",
    "        x = np.append(x, x1[None, :, :], axis=0)\n",
    "        f = gradients.harmonic( x[-1] )\n",
    "        x1 = x[-1] - a * f\n",
    "        step += 1\n",
    "        \n",
    "    return x, step"
   ]
  },
  {
   "cell_type": "code",
   "execution_count": null,
   "metadata": {},
   "outputs": [],
   "source": [
    "x_init = np.array([[.8, .9], [.2, .3]])\n",
    "positions, nsteps = descent(x_init, 1e-3)\n",
    "print(nsteps, positions.shape)\n",
    "print(positions[-1])"
   ]
  },
  {
   "cell_type": "code",
   "execution_count": null,
   "metadata": {},
   "outputs": [],
   "source": [
    "from matplotlib import animation\n",
    "\n",
    "\n",
    "import matplotlib.cm as cm\n",
    "delta = 0.025\n",
    "x = np.arange(-3.0, 3.0, delta)\n",
    "y = np.arange(-3.0, 3.0, delta)\n",
    "X, Y = np.meshgrid(x, y)\n",
    "XY = np.append(X[:, :, None], Y[:, :, None], axis=-1)\n",
    "Z = potentials.harmonic(XY)\n",
    "fig, ax = plt.subplots(figsize=(8, 8))\n",
    "ax.contour(X, Y, Z)\n",
    "\n",
    "\n",
    "#fig, ax = plt.subplots(figsize=(8, 8))\n",
    "colors = np.arange(len(x_init))\n",
    "scat = ax.scatter(x_init[:,0], x_init[:,1], c=colors)\n",
    "ax.set_xlim(-1, 1)\n",
    "ax.set_ylim(-1, 1)\n",
    "def animate(i):\n",
    "    index = i\n",
    "    data = positions[index]\n",
    "    scat.set_offsets(data)\n",
    "    ax.contour(X, Y, Z)\n",
    "    return scat,\n",
    "\n",
    "#Writer = animation.writers['ffmpeg']\n",
    "#writer = Writer(fps=25, bitrate=1800)\n",
    "anim = animation.FuncAnimation(fig, animate, interval=80)#, frames=750, repeat=False)\n",
    "#anim.save('LJ_Harmonic_Particles.mp4', writer=writer)"
   ]
  },
  {
   "cell_type": "code",
   "execution_count": null,
   "metadata": {},
   "outputs": [],
   "source": [
    "\"\"\"\n",
    "Matplotlib Animation Example\n",
    "\n",
    "author: Jake Vanderplas\n",
    "\"\"\"\n",
    "\n",
    "import numpy as np\n",
    "from matplotlib import pyplot as plt\n",
    "from matplotlib import animation\n",
    "\n",
    "# First set up the figure, the axis, and the plot element we want to animate\n",
    "fig = plt.figure()\n",
    "ax = plt.axes(xlim=(-1, 1), ylim=(-1, 1))\n",
    "line, = ax.plot([], [], lw=2)\n",
    "ax.contour(X, Y, Z)\n",
    "\n",
    "# initialization function: plot the background of each frame\n",
    "def init():\n",
    "    particles.set_data([], [])\n",
    "    return line,\n",
    "\n",
    "# animation function.  This is called sequentially\n",
    "def animate(i):\n",
    "    x = positions[i, :, 0]\n",
    "    y = positions[i, :, 1]\n",
    "    particles.set_data(x, y)\n",
    "    return line,\n",
    "\n",
    "# call the animator.  blit=True means only re-draw the parts that have changed.\n",
    "anim = animation.FuncAnimation(fig, animate, init_func=init,\n",
    "                               frames=200, interval=20, blit=True)\n",
    "\n",
    "# save the animation as an mp4.  This requires ffmpeg or mencoder to be\n",
    "# installed.  The extra_args ensure that the x264 codec is used, so that\n",
    "# the video can be embedded in html5.  You may need to adjust this for\n",
    "# your system: for more information, see\n",
    "# http://matplotlib.sourceforge.net/api/animation_api.html\n",
    "#anim.save('basic_animation.mp4', fps=30, extra_args=['-vcodec', 'libx264'])\n",
    "\n",
    "plt.show()"
   ]
  },
  {
   "cell_type": "code",
   "execution_count": null,
   "metadata": {},
   "outputs": [],
   "source": [
    "print(np.linspace(-2, 2, 1000))"
   ]
  },
  {
   "cell_type": "code",
   "execution_count": null,
   "metadata": {},
   "outputs": [],
   "source": [
    "print(positions[0])\n",
    "print(positions[0, :, 1])"
   ]
  },
  {
   "cell_type": "code",
   "execution_count": null,
   "metadata": {},
   "outputs": [],
   "source": []
  }
 ],
 "metadata": {
  "kernelspec": {
   "display_name": "Python 3",
   "language": "python",
   "name": "python3"
  },
  "language_info": {
   "codemirror_mode": {
    "name": "ipython",
    "version": 3
   },
   "file_extension": ".py",
   "mimetype": "text/x-python",
   "name": "python",
   "nbconvert_exporter": "python",
   "pygments_lexer": "ipython3",
   "version": "3.7.2"
  }
 },
 "nbformat": 4,
 "nbformat_minor": 2
}
