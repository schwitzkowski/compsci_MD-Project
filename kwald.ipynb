{
 "cells": [
  {
   "cell_type": "code",
   "execution_count": 1,
   "metadata": {},
   "outputs": [],
   "source": [
    "import numpy as np\n",
    "from numba import jit\n",
    "import timeit"
   ]
  },
  {
   "cell_type": "code",
   "execution_count": 2,
   "metadata": {},
   "outputs": [],
   "source": [
    "def nk( maxki ):\n",
    "    \"\"\"Combinatorics, \n",
    "    returns number of combis for lattice vectors in 3D,\n",
    "    (0,0,0), (0,0,1), (0,0,-1), (0,1,0), ..., (0,1,1), (0,1,-1), (0,-1,1), (1,0,1), ..., (1,1,1), ...\n",
    "    \"\"\"\n",
    "    mitnull = 4 * (maxki + 1) ** 3 \n",
    "    #korr = 7 + sum([30 + i * 24 for i in range(maxki)])\n",
    "    korr = 3 + 6 * maxki + 3 * maxki ** 2\n",
    "    return mitnull - korr"
   ]
  },
  {
   "cell_type": "code",
   "execution_count": 3,
   "metadata": {},
   "outputs": [],
   "source": [
    "assert [nk(i) for i in range(3)] == [1, 20, 81]"
   ]
  },
  {
   "cell_type": "code",
   "execution_count": 4,
   "metadata": {},
   "outputs": [],
   "source": [
    "@jit\n",
    "def kvec_jit( maxki=3 ):#, maxnk=300, maxr=0):\n",
    "    \"\"\"Returns k-vectors for fourier part of ewald \n",
    "    \n",
    "    Arguments:\n",
    "        maxki (int): max value for kx, ky, kz\n",
    "        maxnk (int): max # of k vectors, unrestrict with maxnk=0 \n",
    "        maxr  (int): max length of k, unrestrict with maxr=0\n",
    "    \n",
    "    Output:\n",
    "        k (float): k vectors (dim = 3 x maxnk)\n",
    "    \"\"\"\n",
    "    \n",
    "    vec = np.zeros([nk(maxki), 3], dtype=np.float32)\n",
    "    cnt = 0\n",
    "    #maxr = maxr**2\n",
    "    \n",
    "    vec[cnt] = (0,0,0)\n",
    "    cnt += 1\n",
    "    for i in range(1, maxki + 1):\n",
    "        vec[cnt], vec[cnt+1] = [0,0,i], [0,0,-i]\n",
    "        vec[cnt+2], vec[cnt+3] = [0,i,0], [0,-i,0]\n",
    "        vec[cnt+4], vec[cnt+5] = [i,0,0], [-i,0,0]\n",
    "        cnt += 6\n",
    "    for i in range(1, maxki + 1):\n",
    "        for j in range(1, maxki + 1):\n",
    "            vec[cnt], vec[cnt+1], vec[cnt+2] = [0,i,j], [0,-i,j], [0,i,-j]\n",
    "            vec[cnt+3], vec[cnt+4], vec[cnt+5] = [i,0,j], [-i,0,j], [i,0,-j]\n",
    "            vec[cnt+6], vec[cnt+7], vec[cnt+8] = [i,j,0], [-i,j,0], [i,-j,0]\n",
    "            cnt += 9\n",
    "    for i in range(1, maxki + 1):\n",
    "        for j in range(1, maxki + 1):\n",
    "            for k in range(1, maxki + 1):\n",
    "                    vec[cnt] = [i, j, k]\n",
    "                    vec[cnt+1] = [-i,j,k]\n",
    "                    vec[cnt+2] = [i,-j,k]\n",
    "                    vec[cnt+3] = [i,j,-k]\n",
    "                    cnt += 4\n",
    "    return vec"
   ]
  },
  {
   "cell_type": "code",
   "execution_count": 5,
   "metadata": {},
   "outputs": [],
   "source": [
    "def kvec( maxki=3 ):#, maxnk=300, maxr=0):\n",
    "    \"\"\"Returns k-vectors for fourier part of ewald \n",
    "    \n",
    "    Arguments:\n",
    "        maxki (int): max value for kx, ky, kz\n",
    "        maxnk (int): max # of k vectors, unrestrict with maxnk=0 \n",
    "        maxr  (int): max length of k, unrestrict with maxr=0\n",
    "    \n",
    "    Output:\n",
    "        k (float): k vectors (dim = 3 x maxnk)\n",
    "    \"\"\"\n",
    "    \n",
    "    vec = np.zeros([nk(maxki), 3], dtype=np.float32)\n",
    "    cnt = 0\n",
    "    #maxr = maxr**2\n",
    "    \n",
    "    vec[cnt] = (0,0,0)\n",
    "    cnt += 1\n",
    "    for i in range(1, maxki + 1):\n",
    "        vec[cnt], vec[cnt+1] = [0,0,i], [0,0,-i]\n",
    "        vec[cnt+2], vec[cnt+3] = [0,i,0], [0,-i,0]\n",
    "        vec[cnt+4], vec[cnt+5] = [i,0,0], [-i,0,0]\n",
    "        cnt += 6\n",
    "    for i in range(1, maxki + 1):\n",
    "        for j in range(1, maxki + 1):\n",
    "            vec[cnt], vec[cnt+1], vec[cnt+2] = [0,i,j], [0,-i,j], [0,i,-j]\n",
    "            vec[cnt+3], vec[cnt+4], vec[cnt+5] = [i,0,j], [-i,0,j], [i,0,-j]\n",
    "            vec[cnt+6], vec[cnt+7], vec[cnt+8] = [i,j,0], [-i,j,0], [i,-j,0]\n",
    "            cnt += 9\n",
    "    for i in range(1, maxki + 1):\n",
    "        for j in range(1, maxki + 1):\n",
    "            for k in range(1, maxki + 1):\n",
    "                    vec[cnt] = [i, j, k]\n",
    "                    vec[cnt+1] = [-i,j,k]\n",
    "                    vec[cnt+2] = [i,-j,k]\n",
    "                    vec[cnt+3] = [i,j,-k]\n",
    "                    cnt += 4\n",
    "    return vec"
   ]
  },
  {
   "cell_type": "code",
   "execution_count": 6,
   "metadata": {},
   "outputs": [
    {
     "name": "stdout",
     "output_type": "stream",
     "text": [
      "1.36 ms ± 43.5 µs per loop (mean ± std. dev. of 7 runs, 1 loop each)\n",
      "15.2 ms ± 45.9 µs per loop (mean ± std. dev. of 7 runs, 100 loops each)\n"
     ]
    }
   ],
   "source": [
    "maxki = 15\n",
    "\n",
    "%timeit kvec_jit(maxki)\n",
    "%timeit kvec(maxki)"
   ]
  },
  {
   "cell_type": "code",
   "execution_count": 7,
   "metadata": {},
   "outputs": [],
   "source": [
    "def kvec_if( maxki=3 ):#, maxnk=300, maxr=0):\n",
    "    \"\"\"Returns k-vectors for fourier part of ewald \n",
    "    \n",
    "    Arguments:\n",
    "        maxki (int): max value for kx, ky, kz\n",
    "        maxnk (int): max # of k vectors, unrestrict with maxnk=0 \n",
    "        maxr  (int): max length of k, unrestrict with maxr=0\n",
    "    \n",
    "    Output:\n",
    "        k (float): k vectors (dim = 3 x maxnk)\n",
    "    \"\"\"\n",
    "    \n",
    "    vec = np.zeros([nk(maxki), 3], dtype=np.float32)\n",
    "    cnt = 0\n",
    "    #maxr = maxr**2\n",
    "    \n",
    "    for i in range(maxki + 1):\n",
    "        for j in range(maxki + 1):\n",
    "            for k in range(maxki + 1):\n",
    "                    vec[cnt] = [i, j, k]\n",
    "                    temp = 0\n",
    "                    for l in range(3):\n",
    "                        if vec[cnt][l] > 0:\n",
    "                            vec[cnt+1+temp] = vec[cnt]\n",
    "                            vec[cnt+1+temp][l] = -vec[cnt][l] \n",
    "                            temp += 1\n",
    "                    cnt += 1 + temp\n",
    "    return vec"
   ]
  },
  {
   "cell_type": "code",
   "execution_count": 8,
   "metadata": {},
   "outputs": [
    {
     "name": "stdout",
     "output_type": "stream",
     "text": [
      "40.8 ms ± 315 µs per loop (mean ± std. dev. of 7 runs, 10 loops each)\n"
     ]
    }
   ],
   "source": [
    "maxki = 15\n",
    "\n",
    "%timeit kvec_if(maxki)"
   ]
  },
  {
   "cell_type": "code",
   "execution_count": null,
   "metadata": {},
   "outputs": [],
   "source": []
  },
  {
   "cell_type": "code",
   "execution_count": null,
   "metadata": {},
   "outputs": [],
   "source": []
  },
  {
   "cell_type": "code",
   "execution_count": null,
   "metadata": {},
   "outputs": [],
   "source": []
  },
  {
   "cell_type": "code",
   "execution_count": null,
   "metadata": {},
   "outputs": [],
   "source": [
    "#import itertools as it\n",
    "#comb = list(it.product(range(1,3), repeat=3))\n",
    "#print(comb)"
   ]
  }
 ],
 "metadata": {
  "kernelspec": {
   "display_name": "Python 3",
   "language": "python",
   "name": "python3"
  },
  "language_info": {
   "codemirror_mode": {
    "name": "ipython",
    "version": 3
   },
   "file_extension": ".py",
   "mimetype": "text/x-python",
   "name": "python",
   "nbconvert_exporter": "python",
   "pygments_lexer": "ipython3",
   "version": "3.7.2"
  }
 },
 "nbformat": 4,
 "nbformat_minor": 2
}
